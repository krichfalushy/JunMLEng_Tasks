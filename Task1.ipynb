{
  "nbformat": 4,
  "nbformat_minor": 0,
  "metadata": {
    "colab": {
      "provenance": []
    },
    "kernelspec": {
      "name": "python3",
      "display_name": "Python 3"
    },
    "language_info": {
      "name": "python"
    }
  },
  "cells": [
    {
      "cell_type": "markdown",
      "source": [
        "# Task 1. Pytorch Basics\n",
        "\n",
        "Propose a PyTorch nn.Module that functions as a power equation:\n",
        "\n",
        "`y=x^n`\n",
        "\n",
        "Where x is a vector of positive values and parameter n should be learnable and constrained to values in the range [1, 3]. The outputs from the nn.Module forward method should always be positive. Prepare a Jupyter notebook to demonstrate the use of this nn.Module on a random valued batched vector (torch.tensor) with dimensions 8x16. In our case, 8 is a batch length and 16 is a length of the vector x."
      ],
      "metadata": {
        "id": "gcOon9U7vfLt"
      }
    },
    {
      "cell_type": "code",
      "source": [
        "import torch\n",
        "import torch.nn as nn\n",
        "\n",
        "\n",
        "class Model(nn.Module):\n",
        "  def __init__(self):\n",
        "    super().__init__()\n",
        "    self.n = nn.Parameter(torch.tensor(0.0))\n",
        "    self.sigmoid = nn.Sigmoid()\n",
        "\n",
        "  def forward(self, x):\n",
        "    n = 1 + (2 * self.sigmoid(self.n))\n",
        "    y = torch.pow(x, n)\n",
        "    return y"
      ],
      "metadata": {
        "id": "fEGH2u6Fv8fq"
      },
      "execution_count": 12,
      "outputs": []
    },
    {
      "cell_type": "code",
      "source": [
        "x = torch.rand(8, 16)\n",
        "\n",
        "model = Model()\n",
        "output_y = model(x)\n",
        "\n",
        "print(output_y.shape, \"\\n\")\n",
        "print(output_y)"
      ],
      "metadata": {
        "colab": {
          "base_uri": "https://localhost:8080/"
        },
        "id": "bzN_QYMk3YHc",
        "outputId": "c4367464-c531-4f90-d828-a6a74b0cbeb0"
      },
      "execution_count": 13,
      "outputs": [
        {
          "output_type": "stream",
          "name": "stdout",
          "text": [
            "torch.Size([8, 16]) \n",
            "\n",
            "tensor([[3.2692e-03, 5.9926e-01, 7.7405e-02, 9.4027e-02, 4.1699e-01, 3.0772e-01,\n",
            "         1.7857e-01, 5.1649e-02, 5.7891e-01, 1.1427e-01, 5.1793e-01, 3.7041e-01,\n",
            "         7.4703e-01, 6.1456e-01, 6.7624e-02, 1.9902e-01],\n",
            "        [5.1101e-01, 9.1717e-01, 1.0969e-02, 6.1458e-01, 9.7342e-01, 1.5883e-01,\n",
            "         4.5310e-01, 6.4173e-02, 4.7761e-01, 1.3203e-02, 6.1387e-02, 2.6967e-02,\n",
            "         2.3045e-01, 1.4683e-03, 1.6555e-01, 2.2368e-01],\n",
            "        [9.7415e-01, 6.3270e-02, 4.9728e-01, 5.4897e-01, 1.0994e-01, 1.3437e-01,\n",
            "         8.8997e-01, 8.8294e-03, 2.1100e-02, 4.0719e-01, 7.2979e-02, 8.6036e-01,\n",
            "         5.8119e-01, 6.0189e-01, 1.8373e-01, 8.0324e-01],\n",
            "        [6.8532e-01, 3.4817e-01, 2.4396e-01, 2.1233e-02, 4.0347e-01, 3.4651e-01,\n",
            "         9.2620e-02, 8.9170e-02, 7.1653e-02, 1.8000e-03, 7.3259e-02, 1.4322e-05,\n",
            "         9.7463e-01, 8.8327e-02, 1.8207e-01, 7.4996e-02],\n",
            "        [3.4078e-01, 3.3720e-01, 4.4763e-01, 5.6746e-01, 2.7932e-01, 2.4426e-02,\n",
            "         4.5775e-01, 6.3903e-01, 7.0275e-01, 3.0204e-03, 5.6362e-01, 1.3148e-02,\n",
            "         4.9306e-01, 5.3410e-01, 2.5163e-01, 4.1947e-01],\n",
            "        [1.8777e-01, 9.1332e-01, 6.9484e-01, 5.5518e-01, 5.2292e-01, 2.9008e-01,\n",
            "         8.0034e-01, 1.3690e-02, 5.5008e-01, 5.1409e-02, 8.3363e-02, 4.2704e-01,\n",
            "         7.2887e-01, 1.7817e-01, 2.4848e-01, 8.6420e-01],\n",
            "        [8.2555e-02, 9.1865e-01, 1.8529e-01, 3.1225e-01, 4.4156e-01, 8.2096e-02,\n",
            "         2.1187e-03, 2.8096e-01, 3.0844e-01, 3.6061e-01, 5.7977e-01, 1.2085e-01,\n",
            "         2.9234e-03, 7.4942e-02, 8.6321e-01, 2.3464e-01],\n",
            "        [4.1594e-03, 4.7792e-01, 1.7205e-01, 8.0721e-01, 6.1557e-02, 6.0743e-01,\n",
            "         6.3719e-04, 8.4700e-01, 6.8746e-02, 1.9814e-01, 7.5266e-01, 7.4565e-03,\n",
            "         6.8353e-03, 1.4623e-02, 4.6923e-01, 8.4212e-02]],\n",
            "       grad_fn=<PowBackward1>)\n"
          ]
        }
      ]
    }
  ]
}